{
 "cells": [
  {
   "cell_type": "markdown",
   "metadata": {},
   "source": [
    "# The 15-minute City"
   ]
  },
  {
   "cell_type": "markdown",
   "metadata": {},
   "source": [
    "## Project Data"
   ]
  },
  {
   "cell_type": "markdown",
   "metadata": {},
   "source": [
    "This project will use traffic data from TomTom, e.g. for Edinburgh this is available from https://www.tomtom.com/en_gb/traffic-index/edinburgh-traffic/ for the years 2017 - 2019. In addition, data from Foursquare on the availability of essential shops (supermarket, butcher, bakery) and services (laundromat, pubs, restaurants) in each local area will be used and compared to the traffic data. TomTom is a satnav company with a substantial market share, so it is likely that this is a reliable source of data, and the same can be said for Foursquare."
   ]
  },
  {
   "cell_type": "markdown",
   "metadata": {},
   "source": [
    "Other sources of data that could potentially be used are any public transport routes that pass through an area, as well as the share of people travelling on foot/by bike (or as a proxy, the number of walkways/cycleways)."
   ]
  }
 ],
 "metadata": {
  "kernelspec": {
   "display_name": "Python 3",
   "language": "python",
   "name": "python3"
  },
  "language_info": {
   "codemirror_mode": {
    "name": "ipython",
    "version": 3
   },
   "file_extension": ".py",
   "mimetype": "text/x-python",
   "name": "python",
   "nbconvert_exporter": "python",
   "pygments_lexer": "ipython3",
   "version": "3.7.3"
  }
 },
 "nbformat": 4,
 "nbformat_minor": 4
}
