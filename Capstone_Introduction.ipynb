{
 "cells": [
  {
   "cell_type": "markdown",
   "metadata": {},
   "source": [
    "# The 15-minute City"
   ]
  },
  {
   "cell_type": "markdown",
   "metadata": {},
   "source": [
    "<div class=\"alert alert-block alert-info\" style=\"margin-top: 20px\">\n",
    "    <font size = 3>\n",
    "    Do local shops and services contribute to quality of life for residents and solve other key challenges?  \n",
    "    </font>\n",
    "</div>"
   ]
  },
  {
   "cell_type": "markdown",
   "metadata": {},
   "source": [
    "During the pandemic, it has become clear that an alternative to our 'normal' way of life is possible, one that does not involve the inevitability of gridlocked car traffic. The aim of this project is to answer the question above by looking at various metrics, including traffic congestion, air pollution and happiness indices of global cities such as Paris, Mexico City, Edinburgh, Johannesburg, Buenos Aires and Jakarta. By the end, a description of the effect of various measures taken by city authorities on city residents' environment should emerge along the journey to answering the question above."
   ]
  }
 ],
 "metadata": {
  "kernelspec": {
   "display_name": "Python 3",
   "language": "python",
   "name": "python3"
  },
  "language_info": {
   "codemirror_mode": {
    "name": "ipython",
    "version": 3
   },
   "file_extension": ".py",
   "mimetype": "text/x-python",
   "name": "python",
   "nbconvert_exporter": "python",
   "pygments_lexer": "ipython3",
   "version": "3.7.3"
  }
 },
 "nbformat": 4,
 "nbformat_minor": 4
}
